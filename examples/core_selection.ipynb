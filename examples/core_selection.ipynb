{
 "cells": [
  {
   "cell_type": "code",
   "execution_count": null,
   "metadata": {},
   "outputs": [],
   "source": [
    "!pip install pymkf"
   ]
  },
  {
   "cell_type": "code",
   "execution_count": 4,
   "metadata": {},
   "outputs": [],
   "source": [
    "import PyMKF as pymkf"
   ]
  },
  {
   "cell_type": "markdown",
   "metadata": {},
   "source": [
    "# Core Selection Guide\n",
    "\n",
    "## Overview\n",
    "\n",
    "This guide covers the process of selecting appropriate magnetic cores for your application using PyMKF. Core selection is a critical step in magnetic component design, affecting performance, size, and cost.\n",
    "\n",
    "## Available Core Types\n",
    "\n",
    "PyMKF supports various core types:\n",
    "- E cores\n",
    "- ETD cores\n",
    "- RM cores\n",
    "- Pot cores\n",
    "- Toroidal cores\n",
    "- PQ cores\n",
    "- U cores"
   ]
  },
  {
   "cell_type": "markdown",
   "metadata": {},
   "source": [
    "## Core Selection Process\n",
    "### 1. Basic Selection"
   ]
  },
  {
   "cell_type": "code",
   "execution_count": 6,
   "metadata": {},
   "outputs": [
    {
     "data": {
      "text/plain": [
       "{'aliases': ['E 65/27'],\n",
       " 'dimensions': {'A': {'excludeMaximum': None,\n",
       "   'excludeMinimum': None,\n",
       "   'maximum': 0.0665,\n",
       "   'minimum': 0.0638,\n",
       "   'nominal': None},\n",
       "  'B': {'excludeMaximum': None,\n",
       "   'excludeMinimum': None,\n",
       "   'maximum': 0.0328,\n",
       "   'minimum': 0.0322,\n",
       "   'nominal': None},\n",
       "  'C': {'excludeMaximum': None,\n",
       "   'excludeMinimum': None,\n",
       "   'maximum': 0.0274,\n",
       "   'minimum': 0.0266,\n",
       "   'nominal': None},\n",
       "  'D': {'excludeMaximum': None,\n",
       "   'excludeMinimum': None,\n",
       "   'maximum': 0.023,\n",
       "   'minimum': 0.0222,\n",
       "   'nominal': None},\n",
       "  'E': {'excludeMaximum': None,\n",
       "   'excludeMinimum': None,\n",
       "   'maximum': 0.0457,\n",
       "   'minimum': 0.0442,\n",
       "   'nominal': None},\n",
       "  'F': {'excludeMaximum': None,\n",
       "   'excludeMinimum': None,\n",
       "   'maximum': 0.02,\n",
       "   'minimum': 0.0193,\n",
       "   'nominal': None}},\n",
       " 'family': 'e',\n",
       " 'familySubtype': None,\n",
       " 'magneticCircuit': 'open',\n",
       " 'name': 'E 65/32/27',\n",
       " 'type': 'standard'}"
      ]
     },
     "execution_count": 6,
     "metadata": {},
     "output_type": "execute_result"
    }
   ],
   "source": [
    "# List available cores\n",
    "core_shapes = pymkf.get_core_shapes()\n",
    "core_materials = pymkf.get_core_materials()\n",
    "\n",
    "# Find specific core by name\n",
    "core = pymkf.find_core_shape_by_name(\"E65/32/27\")\n",
    "core"
   ]
  },
  {
   "cell_type": "markdown",
   "metadata": {},
   "source": [
    "### 2. Material Selection\n",
    "\n",
    "The material selection depends on several factors:\n",
    "- Operating frequency\n",
    "- Temperature requirements\n",
    "- Loss requirements\n",
    "- Cost constraints"
   ]
  },
  {
   "cell_type": "code",
   "execution_count": 7,
   "metadata": {},
   "outputs": [
    {
     "ename": "TypeError",
     "evalue": "get_material_permeability(): incompatible function arguments. The following argument types are supported:\n    1. (arg0: json, arg1: float, arg2: float, arg3: float) -> float\n\nInvoked with: kwargs: material_name='N87', temperature=25.0, magnetic_field_dc_bias=0.0, frequency=100000.0",
     "output_type": "error",
     "traceback": [
      "\u001b[0;31m---------------------------------------------------------------------------\u001b[0m",
      "\u001b[0;31mTypeError\u001b[0m                                 Traceback (most recent call last)",
      "Cell \u001b[0;32mIn[7], line 2\u001b[0m\n\u001b[1;32m      1\u001b[0m \u001b[38;5;66;03m# Get material properties\u001b[39;00m\n\u001b[0;32m----> 2\u001b[0m permeability \u001b[38;5;241m=\u001b[39m \u001b[43mpymkf\u001b[49m\u001b[38;5;241;43m.\u001b[39;49m\u001b[43mget_material_permeability\u001b[49m\u001b[43m(\u001b[49m\n\u001b[1;32m      3\u001b[0m \u001b[43m    \u001b[49m\u001b[43mmaterial_name\u001b[49m\u001b[38;5;241;43m=\u001b[39;49m\u001b[38;5;124;43m\"\u001b[39;49m\u001b[38;5;124;43mN87\u001b[39;49m\u001b[38;5;124;43m\"\u001b[39;49m\u001b[43m,\u001b[49m\n\u001b[1;32m      4\u001b[0m \u001b[43m    \u001b[49m\u001b[43mtemperature\u001b[49m\u001b[38;5;241;43m=\u001b[39;49m\u001b[38;5;241;43m25.0\u001b[39;49m\u001b[43m,\u001b[49m\n\u001b[1;32m      5\u001b[0m \u001b[43m    \u001b[49m\u001b[43mmagnetic_field_dc_bias\u001b[49m\u001b[38;5;241;43m=\u001b[39;49m\u001b[38;5;241;43m0.0\u001b[39;49m\u001b[43m,\u001b[49m\n\u001b[1;32m      6\u001b[0m \u001b[43m    \u001b[49m\u001b[43mfrequency\u001b[49m\u001b[38;5;241;43m=\u001b[39;49m\u001b[38;5;241;43m100000.0\u001b[39;49m\n\u001b[1;32m      7\u001b[0m \u001b[43m)\u001b[49m\n",
      "\u001b[0;31mTypeError\u001b[0m: get_material_permeability(): incompatible function arguments. The following argument types are supported:\n    1. (arg0: json, arg1: float, arg2: float, arg3: float) -> float\n\nInvoked with: kwargs: material_name='N87', temperature=25.0, magnetic_field_dc_bias=0.0, frequency=100000.0"
     ]
    }
   ],
   "source": [
    "# Get material properties\n",
    "permeability = pymkf.get_material_permeability(\n",
    "    material_name=\"N87\",\n",
    "    temperature=25.0,\n",
    "    magnetic_field_dc_bias=0.0,\n",
    "    frequency=100000.0\n",
    ")"
   ]
  },
  {
   "cell_type": "markdown",
   "metadata": {},
   "source": [
    "### 3. Core Size Calculation\n",
    "\n",
    "Core size selection based on area product:\n",
    "\n",
    "```python\n",
    "# Calculate advised cores based on requirements\n",
    "advised_cores = pymkf.calculate_advised_cores(\n",
    "    inputsJson,\n",
    "    weightsJson,\n",
    "    maximumNumberResults=5,\n",
    "    useOnlyCoresInStock=True\n",
    ")\n",
    "```\n",
    "\n",
    "### 4. Gap Calculation\n",
    "\n",
    "Calculating air gap for a specific inductance:\n",
    "\n",
    "```python\n",
    "gapping = pymkf.calculate_gapping_from_number_turns_and_inductance(\n",
    "    core_data,\n",
    "    coil_data,\n",
    "    inputs_data,\n",
    "    \"DISTRIBUTED\",\n",
    "    3\n",
    ")\n",
    "```\n",
    "\n",
    "## Design Considerations\n",
    "\n",
    "### Temperature Effects\n",
    "!!! warning \"Temperature Considerations\"\n",
    "    Always consider the temperature dependency of core materials.\n",
    "    ```python\n",
    "    temp_params = pymkf.get_core_temperature_dependant_parameters(core_data, temperature=100)\n",
    "    ```\n",
    "\n",
    "### Saturation Limits\n",
    "Monitor the magnetic flux density to avoid saturation:\n",
    "```python\n",
    "core_losses = pymkf.calculate_core_losses(\n",
    "    core_data,\n",
    "    coil_data,\n",
    "    inputs_data,\n",
    "    models_data\n",
    ")\n",
    "```\n",
    "\n",
    "## Advanced Topics\n",
    "\n",
    "### 1. Core Loss Models\n",
    "PyMKF supports various core loss models:\n",
    "```python\n",
    "models_info = pymkf.get_core_losses_model_information(material)\n",
    "```\n",
    "\n",
    "### 2. Thermal Modeling\n",
    "Understanding thermal behavior:\n",
    "```python\n",
    "thermal_info = pymkf.get_core_temperature_model_information()\n",
    "```\n",
    "\n",
    "## Examples\n",
    "\n",
    "### Basic Core Selection\n",
    "```python\n",
    "# Example of complete core selection process\n",
    "# Step 1: Define requirements\n",
    "requirements = {\n",
    "    \"inductance\": 1e-3,  # 1 mH\n",
    "    \"frequency\": 100e3,  # 100 kHz\n",
    "    \"current_peak\": 10.0, # 10 A\n",
    "    \"temperature_rise\": 40.0 # 40°C\n",
    "}\n",
    "\n",
    "# Step 2: Get advised cores\n",
    "cores = pymkf.calculate_advised_cores(...)\n",
    "\n",
    "# Step 3: Analyze selected core\n",
    "analysis = pymkf.calculate_core_data(...)\n",
    "```\n",
    "\n",
    "### Advanced Optimization\n",
    "Example of optimizing core selection for specific criteria:\n",
    "```python\n",
    "# Define weights for different optimization criteria\n",
    "weights = {\n",
    "    \"AREA_PRODUCT\": 1.0,\n",
    "    \"ENERGY_STORED\": 1.0,\n",
    "    \"COST\": 1.0,\n",
    "    \"EFFICIENCY\": 1.0,\n",
    "    \"DIMENSIONS\": 1.0\n",
    "}\n",
    "\n",
    "# Get optimized core suggestions\n",
    "optimized_cores = pymkf.calculate_advised_cores(inputs, weights, 5, True)\n",
    "```\n",
    "\n",
    "## Common Pitfalls\n",
    "\n",
    "1. **Temperature Consideration**\n",
    "   - Always account for temperature effects on permeability\n",
    "   - Consider worst-case scenarios\n",
    "\n",
    "2. **Saturation Limits**\n",
    "   - Check peak flux density under maximum current\n",
    "   - Include temperature effects on saturation\n",
    "\n",
    "3. **Gapping Considerations**\n",
    "   - Account for fringing flux\n",
    "   - Consider distributed gaps for high-frequency applications\n",
    "\n",
    "## Best Practices\n",
    "\n",
    "1. **Material Selection**\n",
    "   - Match material to frequency range\n",
    "   - Consider temperature stability\n",
    "\n",
    "2. **Size Selection**\n",
    "   - Use area product method for initial sizing\n",
    "   - Account for thermal requirements\n",
    "\n",
    "3. **Performance Verification**\n",
    "   - Verify core losses\n",
    "   - Check temperature rise\n",
    "   - Validate inductance with gap"
   ]
  },
  {
   "cell_type": "code",
   "execution_count": null,
   "metadata": {},
   "outputs": [],
   "source": [
    "import pymkf\n",
    "\n",
    "# List all available core shapes\n",
    "cores = pymkf.get_core_shapes()\n",
    "print(\"Available cores:\", cores)\n",
    "\n",
    "# Find and analyze a specific core\n",
    "core = pymkf.find_core_shape_by_name(\"E65/32/27\")\n",
    "processed_data = pymkf.calculate_core_data(core, include_material_data=True)\n",
    "print(\"Core parameters:\", processed_data)"
   ]
  },
  {
   "cell_type": "code",
   "execution_count": null,
   "metadata": {},
   "outputs": [],
   "source": []
  },
  {
   "cell_type": "code",
   "execution_count": null,
   "metadata": {},
   "outputs": [],
   "source": []
  }
 ],
 "metadata": {
  "kernelspec": {
   "display_name": "icm",
   "language": "python",
   "name": "python3"
  },
  "language_info": {
   "codemirror_mode": {
    "name": "ipython",
    "version": 3
   },
   "file_extension": ".py",
   "mimetype": "text/x-python",
   "name": "python",
   "nbconvert_exporter": "python",
   "pygments_lexer": "ipython3",
   "version": "3.11.3"
  }
 },
 "nbformat": 4,
 "nbformat_minor": 2
}
